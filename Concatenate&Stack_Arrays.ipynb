{
 "cells": [
  {
   "cell_type": "markdown",
   "id": "c349b3e4",
   "metadata": {},
   "source": [
    "<b>\n",
    "\n",
    "1.Zero dimentional array\n",
    "\n",
    "2.np.array\n",
    "\n",
    "3.np.zeros()\n",
    "\n",
    "4.np.arange()\n",
    "\n",
    "5.np.shape\n",
    "\n",
    "6.np.ndim\n",
    "\n",
    "7.np.reshape()\n",
    "\n",
    "8 np.gentext()\n",
    "\n",
    "9.np.squeeze()\n",
    "\n",
    "10.np.expand_dims()\n",
    "\n",
    "11.np.concatenate()\n",
    "\n",
    "12.np.stack()\n",
    "\n",
    "13.np.hstack()\n",
    "    </b>"
   ]
  },
  {
   "cell_type": "code",
   "execution_count": 60,
   "id": "016c25e7",
   "metadata": {},
   "outputs": [],
   "source": [
    "import numpy as np"
   ]
  },
  {
   "cell_type": "code",
   "execution_count": 63,
   "id": "80566964",
   "metadata": {},
   "outputs": [
    {
     "data": {
      "text/plain": [
       "0"
      ]
     },
     "execution_count": 63,
     "metadata": {},
     "output_type": "execute_result"
    }
   ],
   "source": [
    "zero_dim=np.array(10079007).ndim\n",
    "zero_dim"
   ]
  },
  {
   "cell_type": "code",
   "execution_count": 66,
   "id": "9a067fd8",
   "metadata": {},
   "outputs": [
    {
     "data": {
      "text/plain": [
       "array([1., 1., 1., 1., 1., 1., 1., 1., 1., 1.])"
      ]
     },
     "execution_count": 66,
     "metadata": {},
     "output_type": "execute_result"
    }
   ],
   "source": [
    "one_dim=np.ones(10)\n",
    "one_dim"
   ]
  },
  {
   "cell_type": "code",
   "execution_count": 73,
   "id": "b415c40c",
   "metadata": {},
   "outputs": [
    {
     "data": {
      "text/plain": [
       "array([[1., 1.],\n",
       "       [1., 1.],\n",
       "       [1., 1.],\n",
       "       [1., 1.],\n",
       "       [1., 1.]])"
      ]
     },
     "execution_count": 73,
     "metadata": {},
     "output_type": "execute_result"
    }
   ],
   "source": [
    "ndim_array=np.ones(shape=(5,2))\n",
    "ndim_array"
   ]
  },
  {
   "cell_type": "code",
   "execution_count": 79,
   "id": "4526363f",
   "metadata": {},
   "outputs": [
    {
     "data": {
      "text/plain": [
       "array([[[10,  2],\n",
       "        [10,  2]]])"
      ]
     },
     "execution_count": 79,
     "metadata": {},
     "output_type": "execute_result"
    }
   ],
   "source": [
    "ndim_array2=np.array([[10,2],[10,2]],ndmin=3)\n",
    "ndim_array2"
   ]
  },
  {
   "cell_type": "code",
   "execution_count": 68,
   "id": "65ab212d",
   "metadata": {},
   "outputs": [
    {
     "name": "stdout",
     "output_type": "stream",
     "text": [
      "Shape:  (10,)\n",
      "Size:  10\n"
     ]
    }
   ],
   "source": [
    "print(\"Shape: \",one_dim.shape)\n",
    "print(\"Size: \",one_dim.size)"
   ]
  },
  {
   "cell_type": "code",
   "execution_count": 88,
   "id": "54da8143",
   "metadata": {},
   "outputs": [],
   "source": [
    "\n",
    "\n",
    "A=np.arange(9)\n",
    "B=np.arange(9)\n",
    "A=A.reshape(3,3,1)\n",
    "B=B.reshape(3,3)"
   ]
  },
  {
   "cell_type": "code",
   "execution_count": 89,
   "id": "8a4ca930",
   "metadata": {},
   "outputs": [
    {
     "data": {
      "text/plain": [
       "array([[[0],\n",
       "        [1],\n",
       "        [2]],\n",
       "\n",
       "       [[3],\n",
       "        [4],\n",
       "        [5]],\n",
       "\n",
       "       [[6],\n",
       "        [7],\n",
       "        [8]]])"
      ]
     },
     "execution_count": 89,
     "metadata": {},
     "output_type": "execute_result"
    }
   ],
   "source": [
    "A"
   ]
  },
  {
   "cell_type": "code",
   "execution_count": 15,
   "id": "66e937b8",
   "metadata": {},
   "outputs": [
    {
     "data": {
      "text/plain": [
       "(3, 3, 1)"
      ]
     },
     "execution_count": 15,
     "metadata": {},
     "output_type": "execute_result"
    }
   ],
   "source": [
    "A.shape"
   ]
  },
  {
   "cell_type": "code",
   "execution_count": 27,
   "id": "73da8224",
   "metadata": {},
   "outputs": [
    {
     "data": {
      "text/plain": [
       "array([[0, 1, 2],\n",
       "       [3, 4, 5],\n",
       "       [6, 7, 8]])"
      ]
     },
     "execution_count": 27,
     "metadata": {},
     "output_type": "execute_result"
    }
   ],
   "source": [
    "C=A.squeeze(axis=None)\n",
    "C"
   ]
  },
  {
   "cell_type": "code",
   "execution_count": 90,
   "id": "8ef5adf3",
   "metadata": {},
   "outputs": [
    {
     "data": {
      "text/plain": [
       "array([[0, 1, 2],\n",
       "       [3, 4, 5],\n",
       "       [6, 7, 8]])"
      ]
     },
     "execution_count": 90,
     "metadata": {},
     "output_type": "execute_result"
    }
   ],
   "source": [
    "B.reshape(3,3)"
   ]
  },
  {
   "cell_type": "code",
   "execution_count": 91,
   "id": "7716e42f",
   "metadata": {},
   "outputs": [
    {
     "data": {
      "text/plain": [
       "array([[0, 1, 2],\n",
       "       [3, 4, 5],\n",
       "       [6, 7, 8]])"
      ]
     },
     "execution_count": 91,
     "metadata": {},
     "output_type": "execute_result"
    }
   ],
   "source": [
    "B"
   ]
  },
  {
   "cell_type": "code",
   "execution_count": 92,
   "id": "a5d3ccc1",
   "metadata": {},
   "outputs": [
    {
     "data": {
      "text/plain": [
       "array([[[0],\n",
       "        [1],\n",
       "        [2]],\n",
       "\n",
       "       [[3],\n",
       "        [4],\n",
       "        [5]],\n",
       "\n",
       "       [[6],\n",
       "        [7],\n",
       "        [8]]])"
      ]
     },
     "execution_count": 92,
     "metadata": {},
     "output_type": "execute_result"
    }
   ],
   "source": [
    "B=np.expand_dims(B,axis=2)\n",
    "B"
   ]
  },
  {
   "cell_type": "code",
   "execution_count": 93,
   "id": "9525e26f",
   "metadata": {},
   "outputs": [
    {
     "data": {
      "text/plain": [
       "(3, 3, 1)"
      ]
     },
     "execution_count": 93,
     "metadata": {},
     "output_type": "execute_result"
    }
   ],
   "source": [
    "B.shape"
   ]
  },
  {
   "cell_type": "code",
   "execution_count": 43,
   "id": "cf7cfb59",
   "metadata": {},
   "outputs": [
    {
     "data": {
      "text/plain": [
       "(1, 2, 5)"
      ]
     },
     "execution_count": 43,
     "metadata": {},
     "output_type": "execute_result"
    }
   ],
   "source": [
    "a=np.ones(10).reshape(1,2,5)\n",
    "a.shape"
   ]
  },
  {
   "cell_type": "code",
   "execution_count": 44,
   "id": "257766b5",
   "metadata": {},
   "outputs": [
    {
     "data": {
      "text/plain": [
       "array([[[1., 1., 1., 1., 1.],\n",
       "        [1., 1., 1., 1., 1.]]])"
      ]
     },
     "execution_count": 44,
     "metadata": {},
     "output_type": "execute_result"
    }
   ],
   "source": [
    "a"
   ]
  },
  {
   "cell_type": "code",
   "execution_count": 47,
   "id": "c634a9b4",
   "metadata": {},
   "outputs": [
    {
     "data": {
      "text/plain": [
       "(3,)"
      ]
     },
     "execution_count": 47,
     "metadata": {},
     "output_type": "execute_result"
    }
   ],
   "source": [
    "b=np.array([1,2,3])\n",
    "b.shape"
   ]
  },
  {
   "cell_type": "code",
   "execution_count": 52,
   "id": "23f06d0d",
   "metadata": {},
   "outputs": [
    {
     "data": {
      "text/plain": [
       "(1, 3)"
      ]
     },
     "execution_count": 52,
     "metadata": {},
     "output_type": "execute_result"
    }
   ],
   "source": [
    "b=np.array([1,2,3],ndmin=2)\n",
    "b.shape"
   ]
  },
  {
   "cell_type": "code",
   "execution_count": 53,
   "id": "b3b7c0dc",
   "metadata": {},
   "outputs": [
    {
     "data": {
      "text/plain": [
       "(1, 3)"
      ]
     },
     "execution_count": 53,
     "metadata": {},
     "output_type": "execute_result"
    }
   ],
   "source": [
    "b=np.array([[1,2,3]])\n",
    "b.shape"
   ]
  },
  {
   "cell_type": "code",
   "execution_count": 56,
   "id": "ceef828d",
   "metadata": {},
   "outputs": [
    {
     "data": {
      "text/plain": [
       "array([[  1, 100],\n",
       "       [  2,  20],\n",
       "       [  4, 100]])"
      ]
     },
     "execution_count": 56,
     "metadata": {},
     "output_type": "execute_result"
    }
   ],
   "source": [
    "arr=np.genfromtxt(r'C:\\Users\\Tnluser\\Documents\\Scalar\\nparray.csv',delimiter=\",\",dtype=int,skip_header=1)\n",
    "arr"
   ]
  },
  {
   "cell_type": "code",
   "execution_count": 57,
   "id": "53b118b6",
   "metadata": {},
   "outputs": [
    {
     "data": {
      "text/plain": [
       "6"
      ]
     },
     "execution_count": 57,
     "metadata": {},
     "output_type": "execute_result"
    }
   ],
   "source": [
    "arr.size"
   ]
  },
  {
   "cell_type": "code",
   "execution_count": 59,
   "id": "01e6166b",
   "metadata": {},
   "outputs": [
    {
     "data": {
      "text/plain": [
       "2"
      ]
     },
     "execution_count": 59,
     "metadata": {},
     "output_type": "execute_result"
    }
   ],
   "source": [
    "arr.ndim"
   ]
  },
  {
   "cell_type": "code",
   "execution_count": 108,
   "id": "ea326784",
   "metadata": {},
   "outputs": [],
   "source": [
    "arr=np.ones(6).reshape(2,3)"
   ]
  },
  {
   "cell_type": "code",
   "execution_count": 109,
   "id": "ad890c8a",
   "metadata": {},
   "outputs": [
    {
     "data": {
      "text/plain": [
       "array([[1., 1., 1.],\n",
       "       [1., 1., 1.]])"
      ]
     },
     "execution_count": 109,
     "metadata": {},
     "output_type": "execute_result"
    }
   ],
   "source": [
    "arr"
   ]
  },
  {
   "cell_type": "code",
   "execution_count": 113,
   "id": "3e5d859a",
   "metadata": {},
   "outputs": [
    {
     "data": {
      "text/plain": [
       "3"
      ]
     },
     "execution_count": 113,
     "metadata": {},
     "output_type": "execute_result"
    }
   ],
   "source": [
    "arr.shape[1]"
   ]
  },
  {
   "cell_type": "code",
   "execution_count": 114,
   "id": "87b4297c",
   "metadata": {},
   "outputs": [
    {
     "data": {
      "text/plain": [
       "array([[0, 0, 0, 0, 0],\n",
       "       [0, 0, 0, 0, 0],\n",
       "       [0, 0, 0, 0, 0],\n",
       "       [0, 0, 0, 0, 0]])"
      ]
     },
     "execution_count": 114,
     "metadata": {},
     "output_type": "execute_result"
    }
   ],
   "source": [
    "arr2=np.zeros([4,5],dtype=int)\n",
    "arr2"
   ]
  },
  {
   "cell_type": "code",
   "execution_count": 118,
   "id": "00de7656",
   "metadata": {},
   "outputs": [],
   "source": [
    "arr2[1,1:(arr.shape[1]+1)]=arr[1:(arr.shape[1]+1)]"
   ]
  },
  {
   "cell_type": "code",
   "execution_count": 117,
   "id": "3d1c2343",
   "metadata": {},
   "outputs": [
    {
     "data": {
      "text/plain": [
       "array([[1., 1., 1.]])"
      ]
     },
     "execution_count": 117,
     "metadata": {},
     "output_type": "execute_result"
    }
   ],
   "source": [
    "arr[1:(arr.shape[1]+1)]"
   ]
  },
  {
   "cell_type": "code",
   "execution_count": 119,
   "id": "3c443243",
   "metadata": {},
   "outputs": [
    {
     "data": {
      "text/plain": [
       "array([[0, 0, 0, 0, 0],\n",
       "       [0, 1, 1, 1, 0],\n",
       "       [0, 0, 0, 0, 0],\n",
       "       [0, 0, 0, 0, 0]])"
      ]
     },
     "execution_count": 119,
     "metadata": {},
     "output_type": "execute_result"
    }
   ],
   "source": [
    "arr2"
   ]
  },
  {
   "cell_type": "code",
   "execution_count": 121,
   "id": "ccde1aa4",
   "metadata": {},
   "outputs": [
    {
     "data": {
      "text/plain": [
       "array([[0., 0., 0.],\n",
       "       [0., 0., 0.]])"
      ]
     },
     "execution_count": 121,
     "metadata": {},
     "output_type": "execute_result"
    }
   ],
   "source": [
    "np.zeros(arr.shape)"
   ]
  },
  {
   "cell_type": "code",
   "execution_count": 136,
   "id": "b6a84f74",
   "metadata": {},
   "outputs": [],
   "source": [
    "mat=np.arange(20).reshape(5,4)"
   ]
  },
  {
   "cell_type": "code",
   "execution_count": 137,
   "id": "e1c9ceb2",
   "metadata": {},
   "outputs": [
    {
     "data": {
      "text/plain": [
       "array([[ 0,  1,  2,  3],\n",
       "       [ 4,  5,  6,  7],\n",
       "       [ 8,  9, 10, 11],\n",
       "       [12, 13, 14, 15],\n",
       "       [16, 17, 18, 19]])"
      ]
     },
     "execution_count": 137,
     "metadata": {},
     "output_type": "execute_result"
    }
   ],
   "source": [
    "mat"
   ]
  },
  {
   "cell_type": "markdown",
   "id": "c4825250",
   "metadata": {},
   "source": [
    "<h1> Padding </h1>"
   ]
  },
  {
   "cell_type": "code",
   "execution_count": 138,
   "id": "29eb9ddb",
   "metadata": {},
   "outputs": [
    {
     "data": {
      "text/plain": [
       "array([[ 5,  6],\n",
       "       [ 9, 10],\n",
       "       [13, 14]])"
      ]
     },
     "execution_count": 138,
     "metadata": {},
     "output_type": "execute_result"
    }
   ],
   "source": [
    "mat[1:-1,1:-1]\n"
   ]
  },
  {
   "cell_type": "code",
   "execution_count": 139,
   "id": "bb2946ae",
   "metadata": {},
   "outputs": [
    {
     "data": {
      "text/plain": [
       "array([[ 0,  1,  2,  3],\n",
       "       [ 4,  0,  0,  7],\n",
       "       [ 8,  0,  0, 11],\n",
       "       [12,  0,  0, 15],\n",
       "       [16, 17, 18, 19]])"
      ]
     },
     "execution_count": 139,
     "metadata": {},
     "output_type": "execute_result"
    }
   ],
   "source": [
    "mat[1:-1,1:-1]=np.zeros((3,2))\n",
    "mat"
   ]
  },
  {
   "cell_type": "code",
   "execution_count": 148,
   "id": "68b709cb",
   "metadata": {},
   "outputs": [],
   "source": [
    "a1=np.arange(10)\n",
    "a2=np.arange(11,21)"
   ]
  },
  {
   "cell_type": "code",
   "execution_count": 146,
   "id": "8e5f6fa9",
   "metadata": {},
   "outputs": [
    {
     "data": {
      "text/plain": [
       "array([0, 1, 2, 3, 4, 5, 6, 7, 8, 9])"
      ]
     },
     "execution_count": 146,
     "metadata": {},
     "output_type": "execute_result"
    }
   ],
   "source": [
    "a1"
   ]
  },
  {
   "cell_type": "code",
   "execution_count": 149,
   "id": "d54aa986",
   "metadata": {},
   "outputs": [
    {
     "data": {
      "text/plain": [
       "array([11, 12, 13, 14, 15, 16, 17, 18, 19, 20])"
      ]
     },
     "execution_count": 149,
     "metadata": {},
     "output_type": "execute_result"
    }
   ],
   "source": [
    "a2"
   ]
  },
  {
   "cell_type": "code",
   "execution_count": 154,
   "id": "2a1b0716",
   "metadata": {},
   "outputs": [
    {
     "data": {
      "text/plain": [
       "array([[ 0, 11],\n",
       "       [ 1, 12],\n",
       "       [ 2, 13],\n",
       "       [ 3, 14],\n",
       "       [ 4, 15],\n",
       "       [ 5, 16],\n",
       "       [ 6, 17],\n",
       "       [ 7, 18],\n",
       "       [ 8, 19],\n",
       "       [ 9, 20]])"
      ]
     },
     "execution_count": 154,
     "metadata": {},
     "output_type": "execute_result"
    }
   ],
   "source": [
    "np.stack((a1,a2),axis=1)"
   ]
  },
  {
   "cell_type": "code",
   "execution_count": 159,
   "id": "607db9e8",
   "metadata": {},
   "outputs": [
    {
     "name": "stdout",
     "output_type": "stream",
     "text": [
      "[[0 1 2 3 4]\n",
      " [5 6 7 8 9]]\n",
      "\n",
      " [[11 12 13 14 15]\n",
      " [16 17 18 19 20]]\n"
     ]
    }
   ],
   "source": [
    "a3=np.arange(10).reshape(2,5)\n",
    "a4=np.arange(11,21).reshape(2,5)\n",
    "print(a3)\n",
    "print(\"\\n\",a4)"
   ]
  },
  {
   "cell_type": "code",
   "execution_count": 188,
   "id": "962c3838",
   "metadata": {},
   "outputs": [
    {
     "data": {
      "text/plain": [
       "array([[ 0,  1,  2,  3,  4],\n",
       "       [ 5,  6,  7,  8,  9],\n",
       "       [11, 12, 13, 14, 15],\n",
       "       [16, 17, 18, 19, 20]])"
      ]
     },
     "execution_count": 188,
     "metadata": {},
     "output_type": "execute_result"
    }
   ],
   "source": [
    "np.concatenate((a3,a4),axis=0)"
   ]
  },
  {
   "cell_type": "code",
   "execution_count": 189,
   "id": "ead8851a",
   "metadata": {},
   "outputs": [
    {
     "data": {
      "text/plain": [
       "array([[ 0,  1,  2,  3,  4, 11, 12, 13, 14, 15],\n",
       "       [ 5,  6,  7,  8,  9, 16, 17, 18, 19, 20]])"
      ]
     },
     "execution_count": 189,
     "metadata": {},
     "output_type": "execute_result"
    }
   ],
   "source": [
    "np.concatenate((a3,a4),axis=1)"
   ]
  },
  {
   "cell_type": "code",
   "execution_count": 161,
   "id": "60e9e8e3",
   "metadata": {},
   "outputs": [
    {
     "data": {
      "text/plain": [
       "array([[[ 0, 11],\n",
       "        [ 1, 12],\n",
       "        [ 2, 13],\n",
       "        [ 3, 14],\n",
       "        [ 4, 15]],\n",
       "\n",
       "       [[ 5, 16],\n",
       "        [ 6, 17],\n",
       "        [ 7, 18],\n",
       "        [ 8, 19],\n",
       "        [ 9, 20]]])"
      ]
     },
     "execution_count": 161,
     "metadata": {},
     "output_type": "execute_result"
    }
   ],
   "source": [
    "np.stack((a3,a4),axis=2)"
   ]
  },
  {
   "cell_type": "code",
   "execution_count": 176,
   "id": "b7a6381b",
   "metadata": {},
   "outputs": [
    {
     "name": "stdout",
     "output_type": "stream",
     "text": [
      "[[0 1 2 3 4]\n",
      " [5 6 7 8 9]]\n",
      "\n",
      "[[11 12 13 14 15]\n",
      " [16 17 18 19 20]]\n",
      "\n",
      "Stack with axis=1\n",
      "[[[ 0  1  2  3  4]\n",
      "  [11 12 13 14 15]]\n",
      "\n",
      " [[ 5  6  7  8  9]\n",
      "  [16 17 18 19 20]]]\n",
      "\n",
      "Stack with axis=2\n",
      "[[[ 0 11]\n",
      "  [ 1 12]\n",
      "  [ 2 13]\n",
      "  [ 3 14]\n",
      "  [ 4 15]]\n",
      "\n",
      " [[ 5 16]\n",
      "  [ 6 17]\n",
      "  [ 7 18]\n",
      "  [ 8 19]\n",
      "  [ 9 20]]]\n",
      "\n",
      "V Stack---along columns\n",
      "[[ 0  1  2  3  4]\n",
      " [ 5  6  7  8  9]\n",
      " [11 12 13 14 15]\n",
      " [16 17 18 19 20]]\n",
      "\n",
      "H Stack----along rows\n",
      "[[ 0  1  2  3  4 11 12 13 14 15]\n",
      " [ 5  6  7  8  9 16 17 18 19 20]]\n",
      "\n",
      "DStack---along height\n",
      "[[[ 0 11]\n",
      "  [ 1 12]\n",
      "  [ 2 13]\n",
      "  [ 3 14]\n",
      "  [ 4 15]]\n",
      "\n",
      " [[ 5 16]\n",
      "  [ 6 17]\n",
      "  [ 7 18]\n",
      "  [ 8 19]\n",
      "  [ 9 20]]]\n"
     ]
    }
   ],
   "source": [
    "print(a3)\n",
    "print()\n",
    "print(a4)\n",
    "print(\"\\nStack with axis=1\")\n",
    "print(np.stack((a3,a4),axis=1))\n",
    "print(\"\\nStack with axis=2\")\n",
    "print(np.stack((a3,a4),axis=2))\n",
    "print(\"\\nV Stack---along columns\")\n",
    "print(np.vstack((a3,a4)))\n",
    "print(\"\\nH Stack----along rows\")\n",
    "\n",
    "print(np.hstack((a3,a4)))\n",
    "print(\"\\nDStack---along height\")\n",
    "print(np.dstack((a3,a4)))"
   ]
  },
  {
   "cell_type": "code",
   "execution_count": 177,
   "id": "6fc46744",
   "metadata": {},
   "outputs": [],
   "source": [
    "a5=np.arange(0,10)\n",
    "a6=np.arange(10,20)\n"
   ]
  },
  {
   "cell_type": "code",
   "execution_count": 184,
   "id": "0f393665",
   "metadata": {},
   "outputs": [
    {
     "data": {
      "text/plain": [
       "array([ 0,  1,  2,  3,  4,  5,  6,  7,  8,  9, 10, 11, 12, 13, 14, 15, 16,\n",
       "       17, 18, 19])"
      ]
     },
     "execution_count": 184,
     "metadata": {},
     "output_type": "execute_result"
    }
   ],
   "source": [
    "np.concatenate((a5,a6))"
   ]
  },
  {
   "cell_type": "code",
   "execution_count": 179,
   "id": "bf52a648",
   "metadata": {},
   "outputs": [
    {
     "name": "stdout",
     "output_type": "stream",
     "text": [
      "[0 1 2 3 4 5 6 7 8 9]\n",
      "\n",
      "[10 11 12 13 14 15 16 17 18 19]\n",
      "\n",
      "Stack with axis=0\n",
      "[[ 0 10]\n",
      " [ 1 11]\n",
      " [ 2 12]\n",
      " [ 3 13]\n",
      " [ 4 14]\n",
      " [ 5 15]\n",
      " [ 6 16]\n",
      " [ 7 17]\n",
      " [ 8 18]\n",
      " [ 9 19]]\n",
      "\n",
      "Stack with axis=1\n",
      "[[ 0 10]\n",
      " [ 1 11]\n",
      " [ 2 12]\n",
      " [ 3 13]\n",
      " [ 4 14]\n",
      " [ 5 15]\n",
      " [ 6 16]\n",
      " [ 7 17]\n",
      " [ 8 18]\n",
      " [ 9 19]]\n",
      "\n",
      "V Stack---along columns\n",
      "[[ 0  1  2  3  4  5  6  7  8  9]\n",
      " [10 11 12 13 14 15 16 17 18 19]]\n",
      "\n",
      "H Stack----along rows\n",
      "[ 0  1  2  3  4  5  6  7  8  9 10 11 12 13 14 15 16 17 18 19]\n",
      "\n",
      "DStack---along height\n",
      "[[[ 0 10]\n",
      "  [ 1 11]\n",
      "  [ 2 12]\n",
      "  [ 3 13]\n",
      "  [ 4 14]\n",
      "  [ 5 15]\n",
      "  [ 6 16]\n",
      "  [ 7 17]\n",
      "  [ 8 18]\n",
      "  [ 9 19]]]\n"
     ]
    }
   ],
   "source": [
    "print(a5)\n",
    "print()\n",
    "print(a6)\n",
    "print(\"\\nStack with axis=0\")\n",
    "print(np.stack((a5,a6),axis=1))\n",
    "print(\"\\nStack with axis=1\")\n",
    "print(np.stack((a5,a6),axis=1))\n",
    "print(\"\\nV Stack---along columns\")\n",
    "print(np.vstack((a5,a6)))\n",
    "print(\"\\nH Stack----along rows\")\n",
    "\n",
    "print(np.hstack((a5,a6)))\n",
    "print(\"\\nDStack---along height\")\n",
    "print(np.dstack((a5,a6)))"
   ]
  },
  {
   "cell_type": "code",
   "execution_count": null,
   "id": "c9de4210",
   "metadata": {},
   "outputs": [],
   "source": []
  }
 ],
 "metadata": {
  "kernelspec": {
   "display_name": "Python 3 (ipykernel)",
   "language": "python",
   "name": "python3"
  },
  "language_info": {
   "codemirror_mode": {
    "name": "ipython",
    "version": 3
   },
   "file_extension": ".py",
   "mimetype": "text/x-python",
   "name": "python",
   "nbconvert_exporter": "python",
   "pygments_lexer": "ipython3",
   "version": "3.9.12"
  }
 },
 "nbformat": 4,
 "nbformat_minor": 5
}
